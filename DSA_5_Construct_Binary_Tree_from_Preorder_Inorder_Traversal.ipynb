{
 "cells": [
  {
   "cell_type": "markdown",
   "id": "019fcf88-6b20-49fa-84cc-d43a6d091587",
   "metadata": {},
   "source": [
    "## Given preorder and inorder traversal of a tree, construct the binary tree.\n",
    "\n",
    "## You may assume that duplicates do not exist in the tree. For example, given\n",
    "## 1. preorder = [1,2,4,8,9,5, 10,11,3,6,7]\n",
    "## 2. inorder = [8,4,9,2,10,5,11,1,6,3,7]\n",
    "\n",
    "### Preorder = Root, Left, Right (hitting the first time)\n",
    "### Inorder = Left, Root, Right (hitting the second time) --for own reference"
   ]
  },
  {
   "cell_type": "code",
   "execution_count": 6,
   "id": "c25f16bd-0c57-495a-93b1-53e253025c53",
   "metadata": {},
   "outputs": [],
   "source": [
    "from typing import List"
   ]
  },
  {
   "cell_type": "code",
   "execution_count": 45,
   "id": "042a76f0-6ced-46e4-b4ae-8d321e036fd9",
   "metadata": {},
   "outputs": [],
   "source": [
    "class TreeNode:\n",
    "    def __init__(self, val, left = None, right = None):\n",
    "        self.val = val\n",
    "        self.left = left\n",
    "        self.right = right\n",
    "\n",
    "\n",
    "\n",
    "\n",
    "\n",
    "class Solution:\n",
    "\n",
    "    def buildTree(self, preorder: List[int], inorder: List[int]) -> TreeNode:\n",
    "\n",
    "        if len(inorder)==0:\n",
    "            return\n",
    "        \n",
    "        \n",
    "        if len(preorder) ==1:\n",
    "            last_node = TreeNode(preorder[0])\n",
    "            return last_node\n",
    "        \n",
    "        ind = inorder.index(preorder.pop(0))\n",
    "        node = TreeNode(inorder[ind])\n",
    "\n",
    "        node.left = self.buildTree(preorder, inorder[:ind])\n",
    "        node.right = self.buildTree(preorder, inorder[ind+1:])\n",
    "\n",
    "        return node"
   ]
  },
  {
   "cell_type": "markdown",
   "id": "91b32ff5-5879-4dc9-9738-df92c8e46765",
   "metadata": {},
   "source": [
    "### Tested in Leetcode - Passed all test cases and submitted"
   ]
  }
 ],
 "metadata": {
  "kernelspec": {
   "display_name": "Python [conda env:base] *",
   "language": "python",
   "name": "conda-base-py"
  },
  "language_info": {
   "codemirror_mode": {
    "name": "ipython",
    "version": 3
   },
   "file_extension": ".py",
   "mimetype": "text/x-python",
   "name": "python",
   "nbconvert_exporter": "python",
   "pygments_lexer": "ipython3",
   "version": "3.12.7"
  }
 },
 "nbformat": 4,
 "nbformat_minor": 5
}
