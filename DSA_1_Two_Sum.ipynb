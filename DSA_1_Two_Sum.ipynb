{
 "cells": [
  {
   "cell_type": "markdown",
   "id": "1150dbae-3ca9-4a9e-afc7-61256dcd592f",
   "metadata": {},
   "source": [
    "# Two Sums"
   ]
  },
  {
   "cell_type": "markdown",
   "id": "e44e0f2c-6433-4957-818b-bb8fed7c6952",
   "metadata": {},
   "source": [
    "### Given an array of Integers nums and an integer target, return the index position of the two numbers such that they add up to the target."
   ]
  },
  {
   "cell_type": "code",
   "execution_count": 5,
   "id": "9daae9d5-bcfb-4665-b095-b103cbf86bdf",
   "metadata": {},
   "outputs": [
    {
     "data": {
      "text/plain": [
       "[1, 2]"
      ]
     },
     "execution_count": 5,
     "metadata": {},
     "output_type": "execute_result"
    }
   ],
   "source": [
    "# Naive approach\n",
    "\n",
    "nums = [2,7,11,15]\n",
    "target = 18\n",
    "\n",
    "def two_sums(nums, target):\n",
    "    \n",
    "    for i in range(len(nums)):\n",
    "        for j in range(len(nums)):\n",
    "            if nums[i]+nums[j] == target:\n",
    "                return [i,j]\n",
    "\n",
    "two_sums(nums, target)"
   ]
  },
  {
   "cell_type": "code",
   "execution_count": 9,
   "id": "280e5821-7978-4e19-8793-5dce5ce8ba64",
   "metadata": {},
   "outputs": [
    {
     "data": {
      "text/plain": [
       "[1, 2]"
      ]
     },
     "execution_count": 9,
     "metadata": {},
     "output_type": "execute_result"
    }
   ],
   "source": [
    "# Optimized Approach\n",
    "nums = [2,7,11,15]\n",
    "target = 18\n",
    "\n",
    "def two_sums_opt(nums, target):\n",
    "\n",
    "    compare_dict = {}\n",
    "\n",
    "    for i in range(len(nums)):\n",
    "        if nums[i] in compare_dict.keys():\n",
    "            return [compare_dict[nums[i]], i]\n",
    "        else:\n",
    "            compare_dict[target-nums[i]] = i\n",
    "            \n",
    "two_sums_opt(nums, target)"
   ]
  },
  {
   "cell_type": "markdown",
   "id": "1c028b76-1631-4281-ac52-7262da9d5e65",
   "metadata": {},
   "source": [
    "## The first solution is O(n**2) complexity whereas the optimized / second solution is O(n) complexity"
   ]
  }
 ],
 "metadata": {
  "kernelspec": {
   "display_name": "Python [conda env:base] *",
   "language": "python",
   "name": "conda-base-py"
  },
  "language_info": {
   "codemirror_mode": {
    "name": "ipython",
    "version": 3
   },
   "file_extension": ".py",
   "mimetype": "text/x-python",
   "name": "python",
   "nbconvert_exporter": "python",
   "pygments_lexer": "ipython3",
   "version": "3.12.7"
  }
 },
 "nbformat": 4,
 "nbformat_minor": 5
}
