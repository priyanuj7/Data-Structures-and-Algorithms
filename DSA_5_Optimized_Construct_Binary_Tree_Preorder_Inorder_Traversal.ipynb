{
 "cells": [
  {
   "cell_type": "markdown",
   "id": "a6b2fb28-ef94-46fb-93ec-cf1022e513db",
   "metadata": {},
   "source": [
    "## O(1) complexity of the same problem statement "
   ]
  },
  {
   "cell_type": "code",
   "execution_count": 5,
   "id": "1287e5f7-98d4-431b-80a2-e777f53668e8",
   "metadata": {},
   "outputs": [],
   "source": [
    "from typing import List"
   ]
  },
  {
   "cell_type": "code",
   "execution_count": 3,
   "id": "1068eb49-a896-4550-b94c-4f27c767d5d8",
   "metadata": {},
   "outputs": [],
   "source": [
    "class TreeNode:\n",
    "\n",
    "    def __init__(self, val=0, left = None, right = None):\n",
    "        self.val = val\n",
    "        self.left = left\n",
    "        self.right = right"
   ]
  },
  {
   "cell_type": "code",
   "execution_count": 9,
   "id": "3a39ff1a-287d-40f0-a81d-1a7629573b8e",
   "metadata": {},
   "outputs": [],
   "source": [
    "class Solution:\n",
    "\n",
    "    def buildTree(self, preorder = List[int], inorder = List[int]) -> TreeNode:\n",
    "\n",
    "        memory = {}\n",
    "\n",
    "        for i, e in enumerate(inorder):\n",
    "            memory[e] = i\n",
    "\n",
    "        root = self.helper(preorder[::-1], inorder, 0, len(inorder), memory)\n",
    "        return root\n",
    "\n",
    "    def helper(self, preorder, inorder, leftPointer, rightPointer, memory):\n",
    "        \n",
    "        if leftPointer >= rightPointer:\n",
    "            return None\n",
    "        \n",
    "        num = preorder.pop()\n",
    "\n",
    "        root = TreeNode(num)\n",
    "\n",
    "        idx = memory.get(num)\n",
    "\n",
    "        root.left = self.helper(preorder, inorder, leftPointer, idx, memory)\n",
    "        root.right = self.helper(preorder, inorder, idx+1, rightPointer, memory)\n",
    "\n",
    "        return root"
   ]
  },
  {
   "cell_type": "markdown",
   "id": "76690499-cf1e-40e4-9de6-afc0411a56c1",
   "metadata": {},
   "source": [
    "## Cross checked in leet code question"
   ]
  }
 ],
 "metadata": {
  "kernelspec": {
   "display_name": "Python [conda env:base] *",
   "language": "python",
   "name": "conda-base-py"
  },
  "language_info": {
   "codemirror_mode": {
    "name": "ipython",
    "version": 3
   },
   "file_extension": ".py",
   "mimetype": "text/x-python",
   "name": "python",
   "nbconvert_exporter": "python",
   "pygments_lexer": "ipython3",
   "version": "3.12.7"
  }
 },
 "nbformat": 4,
 "nbformat_minor": 5
}
