{
 "cells": [
  {
   "cell_type": "markdown",
   "id": "c9e1ed24-1d00-4294-9d49-650e8255ff72",
   "metadata": {},
   "source": [
    "## Min Stack\n",
    "\n",
    "#### PUSH\n",
    "#### POP\n",
    "#### TOP/PEEK"
   ]
  },
  {
   "cell_type": "code",
   "execution_count": 20,
   "id": "62cff102-faba-4ffd-8c05-16e9fab55d6b",
   "metadata": {},
   "outputs": [],
   "source": [
    "class MinStack:\n",
    "\n",
    "    def __init__(self):\n",
    "        self.stack = []\n",
    "        self.min = []\n",
    "\n",
    "    def push(self, x):\n",
    "\n",
    "        self.stack.append(x)\n",
    "\n",
    "        if self.min:\n",
    "            if x < self.min[-1]:\n",
    "                self.min.append(x)\n",
    "        elif not self.min:\n",
    "            self.min.append(x)\n",
    "\n",
    "\n",
    "    def pop(self):\n",
    "        if self.stack[-1] == self.min[-1]:\n",
    "            self.min.pop()\n",
    "\n",
    "        self.stack.pop()\n",
    "\n",
    "    def top(self):\n",
    "        return self.stack[-1]\n",
    "\n",
    "    def getMin(self):\n",
    "        return self.min[-1]"
   ]
  },
  {
   "cell_type": "markdown",
   "id": "854197e7-dfc3-4625-9727-07f635e3380d",
   "metadata": {},
   "source": [
    "### Better format of the code which works on leetcode below"
   ]
  },
  {
   "cell_type": "code",
   "execution_count": 16,
   "id": "1449dd70-2167-4ac9-b3d8-44e6297e66df",
   "metadata": {},
   "outputs": [
    {
     "name": "stdout",
     "output_type": "stream",
     "text": [
      "empty\n"
     ]
    }
   ],
   "source": [
    "ls = []\n",
    "\n",
    "if ls:\n",
    "    print('not empty')\n",
    "\n",
    "if not ls:\n",
    "    print('empty')"
   ]
  },
  {
   "cell_type": "code",
   "execution_count": 6,
   "id": "b8fbdf94-6675-4bc6-b572-f7187c6b0b9e",
   "metadata": {},
   "outputs": [],
   "source": [
    "class MinStack:\n",
    "    def __init__(self):\n",
    "        self.stack = []\n",
    "        self.min_stack = []\n",
    "\n",
    "    def push(self, val: int) -> None:\n",
    "        self.stack.append(val)\n",
    "        # Push to min_stack if it's empty or the new value is smaller than or equal to the current minimum\n",
    "        if not self.min_stack or val <= self.min_stack[-1]:\n",
    "            self.min_stack.append(val)\n",
    "\n",
    "    def pop(self) -> None:\n",
    "        if self.stack:\n",
    "            # Pop from min_stack only if the top of the stack equals the current minimum\n",
    "            if self.stack[-1] == self.min_stack[-1]:\n",
    "                self.min_stack.pop()\n",
    "            self.stack.pop()\n",
    "\n",
    "    def top(self) -> int:\n",
    "        return self.stack[-1] if self.stack else None\n",
    "\n",
    "    def getMin(self) -> int:\n",
    "        return self.min_stack[-1] if self.min_stack else None"
   ]
  },
  {
   "cell_type": "markdown",
   "id": "372e750e-19e6-4dca-9c19-50771b57c156",
   "metadata": {},
   "source": [
    "## Max Stack"
   ]
  },
  {
   "cell_type": "code",
   "execution_count": 22,
   "id": "11d68c23-7ce6-4048-9fe0-19912d31d8fe",
   "metadata": {},
   "outputs": [],
   "source": [
    "class MaxStack:\n",
    "    def __init__(self):\n",
    "        self.stack = []\n",
    "        self.max_stack = []\n",
    "\n",
    "    def push(self, val: int) -> None:\n",
    "        self.stack.append(val)\n",
    "        # Push to min_stack if it's empty or the new value is smaller than or equal to the current minimum\n",
    "        if not self.max_stack or val >= self.min_stack[-1]:\n",
    "            self.max_stack.append(val)\n",
    "\n",
    "    def pop(self) -> None:\n",
    "        if self.stack:\n",
    "            # Pop from min_stack only if the top of the stack equals the current minimum\n",
    "            if self.stack[-1] == self.max_stack[-1]:\n",
    "                self.max_stack.pop()\n",
    "            self.stack.pop()\n",
    "\n",
    "    def top(self) -> int:\n",
    "        return self.stack[-1] if self.stack else None\n",
    "\n",
    "    def getMax(self) -> int:\n",
    "        return self.max_stack[-1] if self.max_stack else None"
   ]
  }
 ],
 "metadata": {
  "kernelspec": {
   "display_name": "Python [conda env:base] *",
   "language": "python",
   "name": "conda-base-py"
  },
  "language_info": {
   "codemirror_mode": {
    "name": "ipython",
    "version": 3
   },
   "file_extension": ".py",
   "mimetype": "text/x-python",
   "name": "python",
   "nbconvert_exporter": "python",
   "pygments_lexer": "ipython3",
   "version": "3.12.7"
  }
 },
 "nbformat": 4,
 "nbformat_minor": 5
}
