{
 "cells": [
  {
   "cell_type": "markdown",
   "id": "9eb504f9-32aa-4fe3-8b69-5c9f1c4d7270",
   "metadata": {},
   "source": [
    "## Inverting a Binary Tree\n",
    "\n",
    "### More like creating a mirror image of a tree"
   ]
  },
  {
   "cell_type": "code",
   "execution_count": 3,
   "id": "167f14a6-d23a-4645-9aec-38c480f54405",
   "metadata": {},
   "outputs": [],
   "source": [
    "class TreeNode:\n",
    "    def __init__(self, val = 0, left = None, right = None):\n",
    "        self.val =  val\n",
    "        self.left = left\n",
    "        self.right = right"
   ]
  },
  {
   "cell_type": "code",
   "execution_count": 5,
   "id": "5b298a7b-9f2a-40c0-8365-61501e4bd2a1",
   "metadata": {},
   "outputs": [],
   "source": [
    "class Solution:\n",
    "    def invertTree(self, root: TreeNode) -> TreeNode:\n",
    "\n",
    "        if root is None:\n",
    "            return None\n",
    "\n",
    "        root.left, root.right = root.right, root.left\n",
    "\n",
    "        self.invertTree(root.left)\n",
    "        self.invertTree(root.right)\n",
    "\n",
    "        return root"
   ]
  },
  {
   "cell_type": "markdown",
   "id": "214a09da-b1f6-4be4-b9c5-4def581205d8",
   "metadata": {},
   "source": [
    "## Notes:\n",
    "### 1. Time Complexity - O(n)\n",
    "### 2. Space Complexity - O(log(n))"
   ]
  }
 ],
 "metadata": {
  "kernelspec": {
   "display_name": "Python [conda env:base] *",
   "language": "python",
   "name": "conda-base-py"
  },
  "language_info": {
   "codemirror_mode": {
    "name": "ipython",
    "version": 3
   },
   "file_extension": ".py",
   "mimetype": "text/x-python",
   "name": "python",
   "nbconvert_exporter": "python",
   "pygments_lexer": "ipython3",
   "version": "3.12.7"
  }
 },
 "nbformat": 4,
 "nbformat_minor": 5
}
