{
 "cells": [
  {
   "cell_type": "markdown",
   "id": "b849ead4-e57e-468f-bfe3-f7452ca8a1b5",
   "metadata": {},
   "source": [
    "## Basic - Implementing a binary tree"
   ]
  },
  {
   "cell_type": "code",
   "execution_count": 2,
   "id": "b073034b-0f24-4f15-a206-8254f957badd",
   "metadata": {},
   "outputs": [],
   "source": [
    "class Node():\n",
    "    def __init__(self, value):\n",
    "        self.value = value\n",
    "        self.left = None\n",
    "        self.right = None\n",
    "\n",
    "\n",
    "class BinaryTree():\n",
    "\n",
    "    def __init__(self, value):\n",
    "        self.root = Node(value)\n",
    "\n",
    "tree = BinaryTree(3)\n",
    "tree.root.left = Node(4)\n",
    "tree.root.left.left = Node(6)\n",
    "tree.root.left.right = Node(7)\n",
    "\n",
    "tree.root.right = Node(5)\n",
    "tree.root.right.left = Node(8)\n",
    "tree.root.right.right = Node(9)"
   ]
  },
  {
   "cell_type": "markdown",
   "id": "6ea87104-bbbc-4b91-b554-c2b6b8866dc6",
   "metadata": {},
   "source": [
    "## Implementing a depth-first search"
   ]
  },
  {
   "cell_type": "code",
   "execution_count": 18,
   "id": "18b1986e-2a1a-4877-bf5f-707184eb80e7",
   "metadata": {},
   "outputs": [
    {
     "name": "stdout",
     "output_type": "stream",
     "text": [
      "[3, 4, 6, 7, 5, 8, 9]\n",
      "[6, 4, 7, 3, 8, 5, 9]\n",
      "[6, 7, 4, 8, 9, 5, 3]\n"
     ]
    }
   ],
   "source": [
    "class Node():\n",
    "    def __init__(self, value):\n",
    "        self.value = value\n",
    "        self.left = None\n",
    "        self.right = None\n",
    "\n",
    "\n",
    "class BinaryTree():\n",
    "\n",
    "    def __init__(self, value):\n",
    "        self.root = Node(value)\n",
    "\n",
    "    def preorder(self, start, traversal):\n",
    "        # root left right\n",
    "        # will use recursion here\n",
    "        if start is None:\n",
    "            return\n",
    "        traversal.append(start.value)\n",
    "        self.preorder(start.left, traversal)\n",
    "        self.preorder(start.right, traversal)\n",
    "\n",
    "        return traversal\n",
    "\n",
    "    def inorder(self, start, traversal):\n",
    "        # left root right\n",
    "        # will use recursion here\n",
    "        if start is None:\n",
    "            return\n",
    "\n",
    "        self.inorder(start.left, traversal)\n",
    "        traversal.append(start.value)\n",
    "        self.inorder(start.right, traversal)\n",
    "\n",
    "        return traversal\n",
    "\n",
    "    def postorder(self, start, traversal):\n",
    "        # left root right\n",
    "        # will use recursion here\n",
    "        if start is None:\n",
    "            return\n",
    "\n",
    "        self.postorder(start.left, traversal)\n",
    "        self.postorder(start.right, traversal)\n",
    "        traversal.append(start.value)\n",
    "        return traversal\n",
    "            \n",
    "\n",
    "tree = BinaryTree(3)\n",
    "tree.root.left = Node(4)\n",
    "tree.root.left.left = Node(6)\n",
    "tree.root.left.right = Node(7)\n",
    "\n",
    "tree.root.right = Node(5)\n",
    "tree.root.right.left = Node(8)\n",
    "tree.root.right.right = Node(9)\n",
    "\n",
    "\n",
    "\n",
    "print(tree.preorder(tree.root, []))\n",
    "print(tree.inorder(tree.root, []))\n",
    "print(tree.postorder(tree.root, []))"
   ]
  },
  {
   "cell_type": "markdown",
   "id": "2e7f4832-6d16-42bd-9097-a280aa8b9e61",
   "metadata": {},
   "source": [
    "## Implementing a breadth-first search"
   ]
  },
  {
   "cell_type": "code",
   "execution_count": 27,
   "id": "8cb81a64-35ff-45ef-8775-18b6a80520a1",
   "metadata": {},
   "outputs": [
    {
     "name": "stdout",
     "output_type": "stream",
     "text": [
      "[3, 4, 5, 6, 7, 8, 9]\n"
     ]
    }
   ],
   "source": [
    "class Node():\n",
    "    def __init__(self, value):\n",
    "        self.value = value\n",
    "        self.left = None\n",
    "        self.right = None\n",
    "\n",
    "class Queue():\n",
    "    def __init__(self):\n",
    "        self.items = []\n",
    "\n",
    "    def enqueue(self, item):\n",
    "        self.items.append(item)\n",
    "\n",
    "    def dequeue(self):\n",
    "        if len(self.items):\n",
    "            return self.items.pop(0)\n",
    "\n",
    "    def peek(self):\n",
    "        if len(self.items):\n",
    "            return self.items[0].value\n",
    "\n",
    "    def __len__(self):\n",
    "        return len(self.items)\n",
    "\n",
    "\n",
    "class BinaryTree():\n",
    "\n",
    "    def __init__(self, value):\n",
    "        self.root = Node(value)\n",
    "\n",
    "    def levelorder(self, start):\n",
    "        if start is None:\n",
    "            return\n",
    "\n",
    "        queue = Queue()\n",
    "        queue.enqueue(start)\n",
    "\n",
    "        traversal = []\n",
    "\n",
    "        while len(queue) > 0:\n",
    "            traversal.append(queue.peek())\n",
    "            node = queue.dequeue()\n",
    "\n",
    "            if node.left:\n",
    "                queue.enqueue(node.left)\n",
    "            if node.right:\n",
    "                queue.enqueue(node.right)\n",
    "\n",
    "        return traversal\n",
    "        \n",
    "\n",
    "tree = BinaryTree(3)\n",
    "tree.root.left = Node(4)\n",
    "tree.root.left.left = Node(6)\n",
    "tree.root.left.right = Node(7)\n",
    "\n",
    "tree.root.right = Node(5)\n",
    "tree.root.right.left = Node(8)\n",
    "tree.root.right.right = Node(9)\n",
    "\n",
    "\n",
    "print(tree.levelorder(tree.root))"
   ]
  }
 ],
 "metadata": {
  "kernelspec": {
   "display_name": "Python [conda env:base] *",
   "language": "python",
   "name": "conda-base-py"
  },
  "language_info": {
   "codemirror_mode": {
    "name": "ipython",
    "version": 3
   },
   "file_extension": ".py",
   "mimetype": "text/x-python",
   "name": "python",
   "nbconvert_exporter": "python",
   "pygments_lexer": "ipython3",
   "version": "3.12.7"
  }
 },
 "nbformat": 4,
 "nbformat_minor": 5
}
