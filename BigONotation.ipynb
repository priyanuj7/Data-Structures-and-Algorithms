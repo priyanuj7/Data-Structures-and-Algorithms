{
 "cells": [
  {
   "cell_type": "markdown",
   "metadata": {},
   "source": [
    "## Time Complexity"
   ]
  },
  {
   "cell_type": "markdown",
   "metadata": {},
   "source": [
    "## Big O(n)"
   ]
  },
  {
   "cell_type": "code",
   "execution_count": 5,
   "metadata": {},
   "outputs": [
    {
     "name": "stdout",
     "output_type": "stream",
     "text": [
      "Available\n"
     ]
    }
   ],
   "source": [
    "student_list1 = ['tim', 'drake', 'ashish', 'shubham']\n",
    "student_list2 = ['andrew', 'chris', 'harshit', 'lary', 'shubham']\n",
    "\n",
    "def checkStudent(student_list1):\n",
    "    for student in student_list1:\n",
    "        if student == 'shubham':\n",
    "            print('Available')\n",
    "        \n",
    "checkStudent(student_list1)"
   ]
  },
  {
   "cell_type": "markdown",
   "metadata": {},
   "source": [
    "#### Calculating BigO Notation"
   ]
  },
  {
   "cell_type": "markdown",
   "metadata": {},
   "source": [
    "Operation1: Selected the first student in the list and performed comparison\n",
    "Operation2: Selected the second student and comparing if it is shubham or not\n",
    "    \n",
    "There here, it totally depends on the number of inputs, if we have one student in the list we are performing one operation. If we have 4 students in the list we are performing 4 operations"
   ]
  },
  {
   "cell_type": "code",
   "execution_count": 6,
   "metadata": {},
   "outputs": [
    {
     "name": "stdout",
     "output_type": "stream",
     "text": [
      "Available\n"
     ]
    }
   ],
   "source": [
    "student_list2 = ['andrew', 'chris', 'harshit', 'lary', 'shubham']\n",
    "\n",
    "def checkStudent(student_list2):\n",
    "    for student in student_list2:\n",
    "        if student == 'chris':\n",
    "            print('Available')\n",
    "        \n",
    "checkStudent(student_list2)"
   ]
  },
  {
   "cell_type": "markdown",
   "metadata": {},
   "source": [
    "Now, even if we got chris available at 2nd position, after this also, the loop will run for all the students in the list and check the condition.\n",
    "So, even if we got the name in 2nd iteration, we still performed 5 operations. In total we have 5 operations and 5 input"
   ]
  },
  {
   "cell_type": "markdown",
   "metadata": {},
   "source": [
    "### Therefore, this follows and Linear path, therefore in terms of complexity, a linear path follows a pattern of complexity Big O(n) i.e. if number of operations = number of inputs then Big O(n)\n",
    "### n refers to the number of input"
   ]
  },
  {
   "cell_type": "markdown",
   "metadata": {},
   "source": [
    "## Big O(1)"
   ]
  },
  {
   "cell_type": "code",
   "execution_count": 7,
   "metadata": {},
   "outputs": [
    {
     "name": "stdout",
     "output_type": "stream",
     "text": [
      "tim\n"
     ]
    }
   ],
   "source": [
    "def displayStudent(student_list):\n",
    "    print(student_list[0])\n",
    "    \n",
    "displayStudent(student_list1)"
   ]
  },
  {
   "cell_type": "markdown",
   "metadata": {},
   "source": [
    "Although we have 4 elements in the input, but we are depending only on the first element, no matter how big the list get, the number of operation is 1."
   ]
  },
  {
   "cell_type": "code",
   "execution_count": 8,
   "metadata": {},
   "outputs": [
    {
     "name": "stdout",
     "output_type": "stream",
     "text": [
      "tim\n",
      "drake\n"
     ]
    }
   ],
   "source": [
    "def displayStudent(student_list):\n",
    "    print(student_list[0]) # O(1)\n",
    "    print(student_list[1]) # O(1)\n",
    "    \n",
    "displayStudent(student_list1)"
   ]
  },
  {
   "cell_type": "markdown",
   "metadata": {},
   "source": [
    "Even here, no matter how big the list gets, the number of operations is 2 which is constant Big O(2). However, we do not put numbers if they are constant we just say Big O(1)"
   ]
  },
  {
   "cell_type": "markdown",
   "metadata": {},
   "source": [
    "### Counting Operations"
   ]
  },
  {
   "cell_type": "code",
   "execution_count": 9,
   "metadata": {},
   "outputs": [
    {
     "name": "stdout",
     "output_type": "stream",
     "text": [
      "['tim', 'drake', 'ashish', 'andrew', 'chris', 'harshit', 'lary', 'shubham']\n",
      "8\n"
     ]
    }
   ],
   "source": [
    "students = ['tim', 'drake', 'ashish', 'andrew', 'chris', 'harshit', 'lary', 'shubham'] # O(1)\n",
    "\n",
    "def randomFunction(students):\n",
    "    first = students[0] # O(1)\n",
    "    total = 0 # O(1)\n",
    "    new_list = [] # O(1) assigning is big O(1)\n",
    "    \n",
    "    for student in students:\n",
    "        total+=1 # O(n)\n",
    "        new_list.append(student) # O(n)\n",
    "        \n",
    "    print(new_list) # O(1)\n",
    "    return total # O(1)\n",
    "    \n",
    "print(randomFunction(students)) # O(6 + 2n) total complexity -> Therefore O(n) after simplification"
   ]
  },
  {
   "cell_type": "markdown",
   "metadata": {},
   "source": [
    "### Big O(n^2)"
   ]
  },
  {
   "cell_type": "code",
   "execution_count": 12,
   "metadata": {},
   "outputs": [
    {
     "data": {
      "text/plain": [
       "49"
      ]
     },
     "execution_count": 12,
     "metadata": {},
     "output_type": "execute_result"
    }
   ],
   "source": [
    "# This usually happens when we are using a nested loop\n",
    "num_list = [1,2,3,4,5,6,7]\n",
    "\n",
    "def randomFn(num_list):\n",
    "    total = 0 # O(1)\n",
    "    \n",
    "    for num1 in num_list:\n",
    "        for num2 in num_list:\n",
    "            # print(num1, num2) # O(n^2)\n",
    "            total+=1 # O(n^2)\n",
    "    return total # O(n)\n",
    "randomFn(num_list) # O(1 + n^2 + n^2 + 1) = O(2 + 2n^2) = O(n^2)"
   ]
  },
  {
   "cell_type": "code",
   "execution_count": 13,
   "metadata": {},
   "outputs": [
    {
     "data": {
      "text/plain": [
       "28"
      ]
     },
     "execution_count": 13,
     "metadata": {},
     "output_type": "execute_result"
    }
   ],
   "source": [
    "num_list = [1,2,3,4,5,6,7]\n",
    "num_list2 = [1,2,3,4]\n",
    "\n",
    "def randomFn(num_list):\n",
    "    total = 0 # O(1)\n",
    "    \n",
    "    for num1 in num_list2:\n",
    "        for num2 in num_list:\n",
    "            # print(num1, num2) # O(n*m)\n",
    "            total+=1 # O(n*m)\n",
    "    return total # O(n)\n",
    "randomFn(num_list) # O(n*m)"
   ]
  },
  {
   "cell_type": "markdown",
   "metadata": {},
   "source": [
    "There are 7 elements and there are 49 operations therefore, n square"
   ]
  },
  {
   "cell_type": "markdown",
   "metadata": {},
   "source": [
    "### Simplifying Big O\n",
    "1. Rule1: Focus on Scalability\n",
    "2. Considering worst case scenario\n",
    "3. Remove all possible constants\n",
    "4. Consider different variable for different inputs\n",
    "5. Remove all non-dominants"
   ]
  },
  {
   "cell_type": "markdown",
   "metadata": {},
   "source": [
    "### Explanation\n",
    "1. n -> infinity - input should be considered towards millions - because we might not be able to gauge the # of input\n",
    "2. for 2nd code, chris was at 2nd, but we considered O(n) because we go with worst case scenario if it is at the very last for example in this case\n",
    "3. O(6+2n) -  remove constant because we are considering n in millions therefore 6 + 2million doest make difference, also constants along with n which is 2. Therefore after removing 6 and 2, it is O(n)\n",
    "4. Explanation below, if we took the same list O(n) + O(n) = O(n+n) = O(2n) = O(n) which is not right here, it should have been O(n + m). Therefore, try to use different inputs for different operations. \n",
    "5. Suppose, we have O(5 + n + 2n^2), we have to remove constant 5 then we have to remove non dominant n and then we have to remove constant 2, therefore final is O(n^2)"
   ]
  },
  {
   "cell_type": "code",
   "execution_count": 11,
   "metadata": {},
   "outputs": [
    {
     "name": "stdout",
     "output_type": "stream",
     "text": [
      "1\n",
      "2\n",
      "3\n",
      "4\n",
      "3\n",
      "4\n",
      "5\n",
      "6\n",
      "7\n"
     ]
    }
   ],
   "source": [
    "list1 = [1,2,3,4]\n",
    "list2 = [3,4,5,6,7]\n",
    "\n",
    "def random_fn(list1, list2):\n",
    "    for i in list1:\n",
    "        print(i) # O(n)\n",
    "        \n",
    "    for j in list2: # O(m)\n",
    "        print(j)\n",
    "\n",
    "random_fn(list1, list2)"
   ]
  },
  {
   "cell_type": "markdown",
   "metadata": {},
   "source": [
    "### O(n!) -  Worst time complexity"
   ]
  },
  {
   "cell_type": "markdown",
   "metadata": {},
   "source": [
    "## Space Complexity"
   ]
  },
  {
   "cell_type": "markdown",
   "metadata": {},
   "source": [
    "Space complexity of an algorithm represents the amount of extra memory space needed by the algorithm in its life cycle\n",
    "\n",
    "We usually have two types of requirements:\n",
    "1. To store input data\n",
    "2. Extra space that we need to execute the program"
   ]
  },
  {
   "cell_type": "code",
   "execution_count": 16,
   "metadata": {},
   "outputs": [
    {
     "name": "stdout",
     "output_type": "stream",
     "text": [
      "27\n"
     ]
    }
   ],
   "source": [
    "def display_cube(items):\n",
    "    result = pow(items[0],3) # O(1)\n",
    "    print(result)\n",
    "    \n",
    "items = [3,2,3,4,6]\n",
    "\n",
    "display_cube(items)"
   ]
  },
  {
   "cell_type": "markdown",
   "metadata": {},
   "source": [
    "No matter the input size, the result stored will always be one value constant. Therefore, its space complexity is O(1)"
   ]
  },
  {
   "cell_type": "code",
   "execution_count": 18,
   "metadata": {},
   "outputs": [
    {
     "name": "stdout",
     "output_type": "stream",
     "text": [
      "[27, 8, 27, 64, 216]\n"
     ]
    }
   ],
   "source": [
    "def all_cubes(items):\n",
    "    result = []\n",
    "    \n",
    "    for item in items:\n",
    "        result.append(pow(item, 3)) # O(n)\n",
    "        \n",
    "    print(result)\n",
    "\n",
    "all_cubes(items)"
   ]
  },
  {
   "cell_type": "code",
   "execution_count": 22,
   "metadata": {},
   "outputs": [
    {
     "name": "stdout",
     "output_type": "stream",
     "text": [
      "216\n"
     ]
    }
   ],
   "source": [
    "def all_cubes(items):\n",
    "    for item in items:\n",
    "        result = pow(item, 3) # O(1)\n",
    "    \n",
    "    print(result)\n",
    "all_cubes(items)\n",
    "# This is O(1) in space complexity as we are storing only one value because we need one extra space,\n",
    "# we add, then remove and then add\n"
   ]
  },
  {
   "cell_type": "markdown",
   "metadata": {},
   "source": [
    "## Logarithm"
   ]
  },
  {
   "cell_type": "code",
   "execution_count": 23,
   "metadata": {},
   "outputs": [],
   "source": [
    "# In CS, we always talk about log to the base 2"
   ]
  },
  {
   "cell_type": "code",
   "execution_count": 24,
   "metadata": {},
   "outputs": [],
   "source": [
    "# log(x) to base b is log(x) is to the base 2"
   ]
  },
  {
   "cell_type": "code",
   "execution_count": 25,
   "metadata": {},
   "outputs": [],
   "source": [
    "# log(I) = y => 2^y = 1, 2^0 = 1, therefore y = 0"
   ]
  },
  {
   "cell_type": "code",
   "execution_count": 26,
   "metadata": {},
   "outputs": [],
   "source": [
    "# log(4) = 2, 2^2 = 4, therefore, y = 2"
   ]
  },
  {
   "cell_type": "code",
   "execution_count": 27,
   "metadata": {},
   "outputs": [],
   "source": [
    "# When you double the value of x, the value of y only increases by 1"
   ]
  },
  {
   "cell_type": "code",
   "execution_count": 39,
   "metadata": {},
   "outputs": [
    {
     "name": "stdout",
     "output_type": "stream",
     "text": [
      "0.0\n",
      "1.0\n",
      "2.0\n",
      "3.0\n",
      "4.0\n",
      "20.0\n"
     ]
    }
   ],
   "source": [
    "import math\n",
    "print(math.log(1,2))\n",
    "print(math.log(2,2))\n",
    "print(math.log(4,2))\n",
    "print(math.log(8,2))\n",
    "print(math.log(16,2))\n",
    "\n",
    "\n",
    "print(math.log(1048576,2))"
   ]
  },
  {
   "cell_type": "code",
   "execution_count": 40,
   "metadata": {},
   "outputs": [],
   "source": [
    "# Therefore big o(logn) is a lot better than O(n)"
   ]
  },
  {
   "cell_type": "code",
   "execution_count": 41,
   "metadata": {},
   "outputs": [],
   "source": [
    "# We use log complexity during searching and sorting algorithms"
   ]
  }
 ],
 "metadata": {
  "kernelspec": {
   "display_name": "Python 3",
   "language": "python",
   "name": "python3"
  },
  "language_info": {
   "codemirror_mode": {
    "name": "ipython",
    "version": 3
   },
   "file_extension": ".py",
   "mimetype": "text/x-python",
   "name": "python",
   "nbconvert_exporter": "python",
   "pygments_lexer": "ipython3",
   "version": "3.7.4"
  }
 },
 "nbformat": 4,
 "nbformat_minor": 2
}
